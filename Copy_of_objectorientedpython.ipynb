{
  "nbformat": 4,
  "nbformat_minor": 0,
  "metadata": {
    "colab": {
      "provenance": []
    },
    "kernelspec": {
      "name": "python3",
      "display_name": "Python 3"
    },
    "language_info": {
      "name": "python"
    }
  },
  "cells": [
    {
      "cell_type": "code",
      "execution_count": null,
      "metadata": {
        "colab": {
          "base_uri": "https://localhost:8080/"
        },
        "id": "2C7RrEQaMuqU",
        "outputId": "f476dbaa-6ad0-4931-a14d-f73b3feae9c9"
      },
      "outputs": [
        {
          "output_type": "stream",
          "name": "stdout",
          "text": [
            "5\n"
          ]
        }
      ],
      "source": [
        "# prompt: what is an object in python\n",
        "\n",
        "class MyClass:\n",
        "  x = 5\n",
        "\n",
        "p1 = MyClass()\n",
        "print(p1.x)\n"
      ]
    },
    {
      "cell_type": "code",
      "source": [
        "x=1\n",
        "print(type(x))"
      ],
      "metadata": {
        "colab": {
          "base_uri": "https://localhost:8080/"
        },
        "id": "tKs7-JqqNDHJ",
        "outputId": "6b8d40f8-e88b-4912-d1ae-f60a4965ded8"
      },
      "execution_count": null,
      "outputs": [
        {
          "output_type": "stream",
          "name": "stdout",
          "text": [
            "<class 'int'>\n"
          ]
        }
      ]
    },
    {
      "cell_type": "code",
      "source": [
        "print(type(\"hello\"))"
      ],
      "metadata": {
        "colab": {
          "base_uri": "https://localhost:8080/"
        },
        "id": "VOG0-PcANXGJ",
        "outputId": "eaaf842a-3c16-4535-fdcb-1c4bf03567a6"
      },
      "execution_count": null,
      "outputs": [
        {
          "output_type": "stream",
          "name": "stdout",
          "text": [
            "<class 'str'>\n"
          ]
        }
      ]
    },
    {
      "cell_type": "code",
      "source": [
        "def hello():\n",
        "  print(\"hello\")\n",
        "print(type(hello))"
      ],
      "metadata": {
        "colab": {
          "base_uri": "https://localhost:8080/"
        },
        "id": "B0aBzY9HNhZ_",
        "outputId": "af142c4e-ac78-4ca6-a618-e9ec5671fefa"
      },
      "execution_count": null,
      "outputs": [
        {
          "output_type": "stream",
          "name": "stdout",
          "text": [
            "<class 'function'>\n"
          ]
        }
      ]
    },
    {
      "cell_type": "code",
      "source": [
        "x=1\n",
        "y=\"hello\"\n",
        "x+y"
      ],
      "metadata": {
        "colab": {
          "base_uri": "https://localhost:8080/",
          "height": 176
        },
        "id": "kQop5kE7OQ2u",
        "outputId": "65f29dd1-28f1-44f8-8f61-b7188c67f96b"
      },
      "execution_count": null,
      "outputs": [
        {
          "output_type": "error",
          "ename": "TypeError",
          "evalue": "unsupported operand type(s) for +: 'int' and 'str'",
          "traceback": [
            "\u001b[0;31m---------------------------------------------------------------------------\u001b[0m",
            "\u001b[0;31mTypeError\u001b[0m                                 Traceback (most recent call last)",
            "\u001b[0;32m<ipython-input-6-1659f4802d8e>\u001b[0m in \u001b[0;36m<cell line: 3>\u001b[0;34m()\u001b[0m\n\u001b[1;32m      1\u001b[0m \u001b[0mx\u001b[0m\u001b[0;34m=\u001b[0m\u001b[0;36m1\u001b[0m\u001b[0;34m\u001b[0m\u001b[0;34m\u001b[0m\u001b[0m\n\u001b[1;32m      2\u001b[0m \u001b[0my\u001b[0m\u001b[0;34m=\u001b[0m\u001b[0;34m\"hello\"\u001b[0m\u001b[0;34m\u001b[0m\u001b[0;34m\u001b[0m\u001b[0m\n\u001b[0;32m----> 3\u001b[0;31m \u001b[0mx\u001b[0m\u001b[0;34m+\u001b[0m\u001b[0my\u001b[0m\u001b[0;34m\u001b[0m\u001b[0;34m\u001b[0m\u001b[0m\n\u001b[0m",
            "\u001b[0;31mTypeError\u001b[0m: unsupported operand type(s) for +: 'int' and 'str'"
          ]
        }
      ]
    },
    {
      "cell_type": "code",
      "source": [
        "string=\"hello\"\n",
        "print(string.upper())"
      ],
      "metadata": {
        "colab": {
          "base_uri": "https://localhost:8080/"
        },
        "id": "RU7atIgfOrDN",
        "outputId": "c4ae97fe-d49d-4e10-ede4-f705da9cc37a"
      },
      "execution_count": null,
      "outputs": [
        {
          "output_type": "stream",
          "name": "stdout",
          "text": [
            "HELLO\n"
          ]
        }
      ]
    },
    {
      "cell_type": "code",
      "source": [
        "class Dog:\n",
        "  def __init__(self,name,age):\n",
        "    self.name=name\n",
        "    self.age=age\n",
        "  def get_name(self):\n",
        "    return self.name\n",
        "  def get_age(self):\n",
        "    return self.age\n",
        "d=Dog('Tim',12)\n",
        "d.get_name()\n",
        "d.get_age()\n",
        "\n",
        "d2=Dog(\"Bill\",13)\n",
        "d2.get_name()\n",
        "d2.get_age()\n",
        "#d.name\n",
        "#d.bark()\n",
        "##type(d)\n",
        "print(d)"
      ],
      "metadata": {
        "colab": {
          "base_uri": "https://localhost:8080/"
        },
        "id": "mYOdCSFzPaDg",
        "outputId": "a7fc82bd-2533-4102-fa52-ab08a87b5ff4"
      },
      "execution_count": null,
      "outputs": [
        {
          "output_type": "stream",
          "name": "stdout",
          "text": [
            "<__main__.Dog object at 0x79610bd21ed0>\n"
          ]
        }
      ]
    },
    {
      "cell_type": "code",
      "source": [
        "class Dog:\n",
        "  def __init__(self,name,age):\n",
        "    self.name=name\n",
        "    self.age=age\n",
        "  def get_name(self):\n",
        "    return self.name\n",
        "  def get_age(self):\n",
        "    return self.age\n",
        "d=Dog('Tim',12)\n",
        "d.get_name()\n",
        "d.get_age()\n",
        "\n",
        "d2=Dog(\"Bill\",13)\n",
        "d2.get_name()\n",
        "d2.get_age()\n",
        "#d.name\n",
        "#d.bark()\n",
        "##type(d)\n",
        "print(d)"
      ],
      "metadata": {
        "colab": {
          "base_uri": "https://localhost:8080/"
        },
        "outputId": "a7fc82bd-2533-4102-fa52-ab08a87b5ff4",
        "id": "mb7UGuL8Vsnc"
      },
      "execution_count": null,
      "outputs": [
        {
          "output_type": "stream",
          "name": "stdout",
          "text": [
            "<__main__.Dog object at 0x79610bd21ed0>\n"
          ]
        }
      ]
    },
    {
      "cell_type": "code",
      "source": [
        "class Dog:\n",
        "  def __init__(self,name,age):\n",
        "    self.name=name\n",
        "    self.age=age\n",
        "  def get_name(self):\n",
        "    return self.name\n",
        "  def get_age(self):\n",
        "    return self.age\n",
        "d=Dog('Tim',12)\n",
        "d.get_name()\n",
        "d.get_age()\n",
        "\n",
        "d2=Dog(\"Bill\",13)\n",
        "d2.get_name()\n",
        "d2.get_age()\n",
        "#d.name\n",
        "#d.bark()\n",
        "##type(d)\n",
        "print(d)"
      ],
      "metadata": {
        "colab": {
          "base_uri": "https://localhost:8080/"
        },
        "outputId": "a7fc82bd-2533-4102-fa52-ab08a87b5ff4",
        "id": "hFeXghxBVu5l"
      },
      "execution_count": null,
      "outputs": [
        {
          "output_type": "stream",
          "name": "stdout",
          "text": [
            "<__main__.Dog object at 0x79610bd21ed0>\n"
          ]
        }
      ]
    },
    {
      "cell_type": "code",
      "source": [
        "class Dog:\n",
        "  def __init__(self,name,age):\n",
        "    self.name=name\n",
        "    self.age=age\n",
        "  def get_name(self):\n",
        "    return self.name\n",
        "  def get_age(self):\n",
        "    return self.age\n",
        "d=Dog('Tim',12)\n",
        "d.get_name()\n",
        "d.get_age()\n",
        "\n",
        "d2=Dog(\"Bill\",13)\n",
        "d2.get_name()\n",
        "d2.get_age()\n",
        "#d.name\n",
        "#d.bark()\n",
        "##type(d)\n",
        "print(d)"
      ],
      "metadata": {
        "colab": {
          "base_uri": "https://localhost:8080/"
        },
        "outputId": "a7fc82bd-2533-4102-fa52-ab08a87b5ff4",
        "id": "NdlmlxNOV1LP"
      },
      "execution_count": null,
      "outputs": [
        {
          "output_type": "stream",
          "name": "stdout",
          "text": [
            "<__main__.Dog object at 0x79610bd21ed0>\n"
          ]
        }
      ]
    },
    {
      "cell_type": "code",
      "source": [
        "class Dog:\n",
        "  def __init__(self,name,age):\n",
        "    self.name=name\n",
        "    self.age=age\n",
        "  def get_name(self):\n",
        "    return self.name\n",
        "  def get_age(self):\n",
        "    return self.age\n",
        "d=Dog('Tim',12)\n",
        "d.get_name()\n",
        "d.get_age()\n",
        "\n",
        "d2=Dog(\"Bill\",13)\n",
        "d2.get_name()\n",
        "d2.get_age()\n",
        "#d.name\n",
        "#d.bark()\n",
        "##type(d)\n",
        "#print(d)"
      ],
      "metadata": {
        "colab": {
          "base_uri": "https://localhost:8080/"
        },
        "outputId": "7b24a507-0b2c-46e9-bfc9-19023fa6d6e2",
        "id": "9busLuniV21q"
      },
      "execution_count": null,
      "outputs": [
        {
          "output_type": "execute_result",
          "data": {
            "text/plain": [
              "13"
            ]
          },
          "metadata": {},
          "execution_count": 29
        }
      ]
    },
    {
      "source": [
        "class Dog:\n",
        "    def __init__(self, name, age):\n",
        "        self.name = name\n",
        "        self.age = age\n",
        "\n",
        "    def get_name(self):\n",
        "        return self.name\n",
        "\n",
        "    def get_age(self):\n",
        "        return self.age\n",
        "    def set_age(self,age):\n",
        "     self.age=age\n",
        "\n",
        "\n",
        "d = Dog('Tim', 12)\n",
        "print(d.get_name())\n",
        "d.set_age(23)\n",
        "print(d.get_age())\n",
        "\n",
        "d2 = Dog(\"Bill\", 13)\n",
        "print(d2.get_name())\n",
        "d2.set_age(20)\n",
        "print(d2.get_age())\n"
      ],
      "cell_type": "code",
      "metadata": {
        "colab": {
          "base_uri": "https://localhost:8080/"
        },
        "id": "h_13EXpnYILF",
        "outputId": "2d538d86-ba09-40bc-9fd0-c6449ba51956"
      },
      "execution_count": null,
      "outputs": [
        {
          "output_type": "stream",
          "name": "stdout",
          "text": [
            "Tim\n",
            "23\n",
            "Bill\n",
            "20\n"
          ]
        }
      ]
    },
    {
      "cell_type": "code",
      "source": [
        "###\n",
        "class student:\n",
        "  def __init__(self,name,age,grade):\n",
        "    self.name=name\n",
        "    self.age=age\n",
        "    self.grade=grade#1-100\n",
        "  def get_grade(self):\n",
        "     return self.grade\n",
        "class course:\n",
        "  def __init__(self,name,max_students):\n",
        "    self.name=name\n",
        "    self.max_students=max_students\n",
        "    self.students=[]\n",
        "  def add_students(self,student):\n",
        "     if len(self.students)<self.max_students:\n",
        "      self.students.append(student)\n",
        "      return True\n",
        "     return False\n",
        "  def get_average_grade(self):\n",
        "    value=0\n",
        "    for student in self.students:\n",
        "      value +=student.get_grade()\n",
        "    return value/len(self.students)\n",
        "s1=student('james',21,95)\n",
        "s2=student('john',20,90)\n",
        "s3=student('lukes',19,80)\n",
        "Course=course('science',2)\n",
        "Course.add_students(s1)\n",
        "Course.add_students(s2)\n",
        "Course.get_average_grade()\n",
        "\n",
        "\n"
      ],
      "metadata": {
        "colab": {
          "base_uri": "https://localhost:8080/"
        },
        "id": "L1Ao3o5GZodb",
        "outputId": "c7e25b10-d54d-4998-b09c-f3afe9fe6a21"
      },
      "execution_count": null,
      "outputs": [
        {
          "output_type": "execute_result",
          "data": {
            "text/plain": [
              "92.5"
            ]
          },
          "metadata": {},
          "execution_count": 58
        }
      ]
    },
    {
      "cell_type": "code",
      "source": [
        "## inheritance\n",
        "class pet:\n",
        "  def __init__(self,name,age):\n",
        "   self.name=name\n",
        "   self.age=age\n",
        "  def show(self):\n",
        "    print(f\"my name is {self.name} i am {self.age} years old\")\n",
        "  def speak(self):\n",
        "    return \"i dont know how to speak\"\n",
        "\n",
        "class Dog(pet):\n",
        "  def __init__(self,name,age,colour):\n",
        "    super().__init__(name,age)\n",
        "    self.colour=colour\n",
        "  def speak(self):\n",
        "   print(\"bark\")\n",
        "  def show(self):\n",
        "   print(f\"my name is {self.name} i am {self.age} and am {self.colour}\")\n",
        "class cat(pet):\n",
        "  def speak(self):\n",
        "   print(\"meow\")\n",
        "class fish(pet):\n",
        "  pass\n",
        "p=pet(\"jin\",13)\n",
        "#p.show()\n",
        "d=Dog(\"Tim\",23,\"blue\")\n",
        "d.show()\n",
        "d.speak()\n",
        "f=fish(\"bubbles\",2)\n",
        "f.show()\n",
        "f.speak()\n",
        "c=cat(\"kitty\",3)\n",
        "c.show()\n",
        "c.speak()"
      ],
      "metadata": {
        "colab": {
          "base_uri": "https://localhost:8080/"
        },
        "id": "Ap0i07-5waF3",
        "outputId": "5f0118da-b92c-45d0-c19d-e9cd21eb6640"
      },
      "execution_count": null,
      "outputs": [
        {
          "output_type": "stream",
          "name": "stdout",
          "text": [
            "my name is Tim i am 23 and am blue\n",
            "bark\n",
            "my name is bubbles i am 2 years old\n",
            "my name is kitty i am 3 years old\n",
            "meow\n"
          ]
        }
      ]
    },
    {
      "cell_type": "code",
      "source": [
        "\n",
        "## class methods and class attributes\n",
        "class person():\n",
        "  number_of_people=0\n",
        "  gravity=-9.8127\n",
        "  def __init__(self,name):\n",
        "   self.name=name\n",
        "\n",
        "  @classmethod\n",
        "  def Gravity(cls):\n",
        "    cls.gravity=8.888\n",
        "    return cls.gravity\n",
        "  @classmethod\n",
        "  def add_person(cls):\n",
        "    cls.number_of_people+=1\n",
        "#person.Gravity()\n",
        "#person.number_of_people\n",
        "p1=person(\"john\")\n",
        "p1.add_person()\n",
        "p2=person(\"jill\")\n",
        "p2.number_of_people\n",
        "p2.add_person()\n"
      ],
      "metadata": {
        "id": "Q_dsIpbX16AH"
      },
      "execution_count": null,
      "outputs": []
    },
    {
      "cell_type": "code",
      "source": [
        "import tkinter as tk\n",
        "from tkinter import messagebox\n",
        "\n",
        "def login():\n",
        "    username = username_entry.get()\n",
        "    password = password_entry.get()\n",
        "    if username == \"admin\" and password == \"password\":\n",
        "        messagebox.showinfo(\"Login Successful\", \"Welcome, Admin!\")\n",
        "        # Code to open main application window goes here\n",
        "    else:\n",
        "        messagebox.showerror(\"Login Failed\", \"Invalid username or password\")\n",
        "\n",
        "# Create the login window\n",
        "root = tk.Tk()\n",
        "root.title(\"Login System\")\n",
        "\n",
        "# Username entry\n",
        "username_label = tk.Label(root, text=\"Username:\")\n",
        "username_label.grid(row=0, column=0)\n",
        "username_entry = tk.Entry(root)\n",
        "username_entry.grid(row=0, column=1)\n",
        "\n",
        "# Password entry\n",
        "password_label = tk.Label(root, text=\"Password:\")\n",
        "password_label.grid(row=1, column=0)\n",
        "password_entry = tk.Entry(root, show=\"*\")\n",
        "password_entry.grid(row=1, column=1)\n",
        "\n",
        "# Login button\n",
        "login_button = tk.Button(root, text=\"Login\", command=login)\n",
        "login_button.grid(row=2, column=0, columnspan=2)\n",
        "\n",
        "# Run the Tkinter event loop\n",
        "root.mainloop()\n"
      ],
      "metadata": {
        "colab": {
          "base_uri": "https://localhost:8080/",
          "height": 367
        },
        "id": "ye6A5oBUzARP",
        "outputId": "f59e6daf-5cc4-4fdc-a15e-444d5241bd21"
      },
      "execution_count": null,
      "outputs": [
        {
          "output_type": "error",
          "ename": "TclError",
          "evalue": "no display name and no $DISPLAY environment variable",
          "traceback": [
            "\u001b[0;31m---------------------------------------------------------------------------\u001b[0m",
            "\u001b[0;31mTclError\u001b[0m                                  Traceback (most recent call last)",
            "\u001b[0;32m<ipython-input-80-1cfa2d6668c1>\u001b[0m in \u001b[0;36m<cell line: 14>\u001b[0;34m()\u001b[0m\n\u001b[1;32m     12\u001b[0m \u001b[0;34m\u001b[0m\u001b[0m\n\u001b[1;32m     13\u001b[0m \u001b[0;31m# Create the login window\u001b[0m\u001b[0;34m\u001b[0m\u001b[0;34m\u001b[0m\u001b[0m\n\u001b[0;32m---> 14\u001b[0;31m \u001b[0mroot\u001b[0m \u001b[0;34m=\u001b[0m \u001b[0mtk\u001b[0m\u001b[0;34m.\u001b[0m\u001b[0mTk\u001b[0m\u001b[0;34m(\u001b[0m\u001b[0;34m)\u001b[0m\u001b[0;34m\u001b[0m\u001b[0;34m\u001b[0m\u001b[0m\n\u001b[0m\u001b[1;32m     15\u001b[0m \u001b[0mroot\u001b[0m\u001b[0;34m.\u001b[0m\u001b[0mtitle\u001b[0m\u001b[0;34m(\u001b[0m\u001b[0;34m\"Login System\"\u001b[0m\u001b[0;34m)\u001b[0m\u001b[0;34m\u001b[0m\u001b[0;34m\u001b[0m\u001b[0m\n\u001b[1;32m     16\u001b[0m \u001b[0;34m\u001b[0m\u001b[0m\n",
            "\u001b[0;32m/usr/lib/python3.10/tkinter/__init__.py\u001b[0m in \u001b[0;36m__init__\u001b[0;34m(self, screenName, baseName, className, useTk, sync, use)\u001b[0m\n\u001b[1;32m   2297\u001b[0m                 \u001b[0mbaseName\u001b[0m \u001b[0;34m=\u001b[0m \u001b[0mbaseName\u001b[0m \u001b[0;34m+\u001b[0m \u001b[0mext\u001b[0m\u001b[0;34m\u001b[0m\u001b[0;34m\u001b[0m\u001b[0m\n\u001b[1;32m   2298\u001b[0m         \u001b[0minteractive\u001b[0m \u001b[0;34m=\u001b[0m \u001b[0;32mFalse\u001b[0m\u001b[0;34m\u001b[0m\u001b[0;34m\u001b[0m\u001b[0m\n\u001b[0;32m-> 2299\u001b[0;31m         \u001b[0mself\u001b[0m\u001b[0;34m.\u001b[0m\u001b[0mtk\u001b[0m \u001b[0;34m=\u001b[0m \u001b[0m_tkinter\u001b[0m\u001b[0;34m.\u001b[0m\u001b[0mcreate\u001b[0m\u001b[0;34m(\u001b[0m\u001b[0mscreenName\u001b[0m\u001b[0;34m,\u001b[0m \u001b[0mbaseName\u001b[0m\u001b[0;34m,\u001b[0m \u001b[0mclassName\u001b[0m\u001b[0;34m,\u001b[0m \u001b[0minteractive\u001b[0m\u001b[0;34m,\u001b[0m \u001b[0mwantobjects\u001b[0m\u001b[0;34m,\u001b[0m \u001b[0museTk\u001b[0m\u001b[0;34m,\u001b[0m \u001b[0msync\u001b[0m\u001b[0;34m,\u001b[0m \u001b[0muse\u001b[0m\u001b[0;34m)\u001b[0m\u001b[0;34m\u001b[0m\u001b[0;34m\u001b[0m\u001b[0m\n\u001b[0m\u001b[1;32m   2300\u001b[0m         \u001b[0;32mif\u001b[0m \u001b[0museTk\u001b[0m\u001b[0;34m:\u001b[0m\u001b[0;34m\u001b[0m\u001b[0;34m\u001b[0m\u001b[0m\n\u001b[1;32m   2301\u001b[0m             \u001b[0mself\u001b[0m\u001b[0;34m.\u001b[0m\u001b[0m_loadtk\u001b[0m\u001b[0;34m(\u001b[0m\u001b[0;34m)\u001b[0m\u001b[0;34m\u001b[0m\u001b[0;34m\u001b[0m\u001b[0m\n",
            "\u001b[0;31mTclError\u001b[0m: no display name and no $DISPLAY environment variable"
          ]
        }
      ]
    },
    {
      "source": [
        "class Student:\n",
        "    def __init__(self, name, reg_no, course, marks):\n",
        "        self.name = name\n",
        "        self.reg_no = reg_no\n",
        "        self.course = course\n",
        "        self.marks = marks\n",
        "\n",
        "    def calculate_grade(self):\n",
        "        if self.marks >= 80:\n",
        "            return 'A'\n",
        "        elif self.marks >= 60:\n",
        "            return 'B'\n",
        "        elif self.marks >= 50:\n",
        "            return 'C'\n",
        "        else:\n",
        "            return 'F'\n",
        "\n",
        "# Create a list of students\n",
        "students = [\n",
        "    Student('John Doe', '12345', 'Computer Science', 90),\n",
        "    Student('Jane Doe', '54321', 'Mathematics', 75),\n",
        "    Student('Alice Smith', '67890', 'Physics', 60),\n",
        "    Student('Bob Jones', '09876', 'Chemistry', 45)\n",
        "]\n",
        "\n",
        "# Loop through the students and print their details\n",
        "for student in students:\n",
        "    print('Name:', student.name)\n",
        "    print('Registration Number:', student.reg_no)\n",
        "    print('Course:', student.course)\n",
        "    print('Marks:', student.marks)\n",
        "    print('Grade:', student.calculate_grade())\n",
        "    print()"
      ],
      "cell_type": "code",
      "metadata": {
        "colab": {
          "base_uri": "https://localhost:8080/"
        },
        "id": "mx0-jGB-_vHA",
        "outputId": "9617f8a2-4a7e-4c6c-ec63-f740ea6695be"
      },
      "execution_count": null,
      "outputs": [
        {
          "output_type": "stream",
          "name": "stdout",
          "text": [
            "Name: John Doe\n",
            "Registration Number: 12345\n",
            "Course: Computer Science\n",
            "Marks: 90\n",
            "Grade: A\n",
            "\n",
            "Name: Jane Doe\n",
            "Registration Number: 54321\n",
            "Course: Mathematics\n",
            "Marks: 75\n",
            "Grade: B\n",
            "\n",
            "Name: Alice Smith\n",
            "Registration Number: 67890\n",
            "Course: Physics\n",
            "Marks: 60\n",
            "Grade: B\n",
            "\n",
            "Name: Bob Jones\n",
            "Registration Number: 09876\n",
            "Course: Chemistry\n",
            "Marks: 45\n",
            "Grade: F\n",
            "\n"
          ]
        }
      ]
    }
  ]
}